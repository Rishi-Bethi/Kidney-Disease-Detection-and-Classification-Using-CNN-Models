{
 "cells": [
  {
   "cell_type": "code",
   "execution_count": 2,
   "id": "af171694",
   "metadata": {},
   "outputs": [
    {
     "name": "stdout",
     "output_type": "stream",
     "text": [
      "Requirement already satisfied: split-folders in c:\\users\\admin\\anaconda3\\lib\\site-packages (0.5.1)\n"
     ]
    }
   ],
   "source": [
    "!pip install split-folders"
   ]
  },
  {
   "cell_type": "code",
   "execution_count": 3,
   "id": "ac2549d8",
   "metadata": {},
   "outputs": [],
   "source": [
    "import numpy as np # linear algebra\n",
    "import pandas as pd # data processing, CSV file I/O (e.g. pd.read_csv)\n",
    "\n",
    "import matplotlib as mpl\n",
    "import matplotlib.pyplot as plt\n",
    "import matplotlib.image as mpimg\n",
    "\n",
    "import os\n",
    "import tensorflow as tf\n",
    "import cv2\n",
    "\n",
    "from PIL import Image, ImageOps\n",
    "import scipy.ndimage as ndi\n",
    "\n",
    "from tensorflow.keras.preprocessing.image import ImageDataGenerator , load_img , img_to_array\n",
    "from keras.models import Sequential\n",
    "from keras.layers import Conv2D, Flatten, MaxPool2D, Dense\n",
    "import matplotlib.pyplot as plt\n",
    "\n",
    "from skimage import transform\n",
    "import splitfolders\n",
    "from sklearn.metrics import confusion_matrix\n",
    "from sklearn.metrics import precision_recall_fscore_support\n",
    "import seaborn as sns\n",
    "\n",
    "import splitfolders"
   ]
  },
  {
   "cell_type": "code",
   "execution_count": 4,
   "id": "3c7ccc39",
   "metadata": {},
   "outputs": [
    {
     "data": {
      "text/plain": [
       "['Cyst', 'Normal', 'Stone', 'Tumor']"
      ]
     },
     "execution_count": 4,
     "metadata": {},
     "output_type": "execute_result"
    }
   ],
   "source": [
    "os.listdir(r'C:\\Users\\Admin\\Desktop\\KIDNEY-DATASET\\KIDNEY-DATASET')"
   ]
  },
  {
   "cell_type": "code",
   "execution_count": 5,
   "id": "696784ab",
   "metadata": {},
   "outputs": [
    {
     "name": "stdout",
     "output_type": "stream",
     "text": [
      "Folder: Cyst\n",
      "\n",
      "Number of elements: 1000\n",
      "\n",
      "***************************\n",
      "Folder: Normal\n",
      "\n",
      "Number of elements: 1000\n",
      "\n",
      "***************************\n",
      "Folder: Stone\n",
      "\n",
      "Number of elements: 1000\n",
      "\n",
      "***************************\n",
      "Folder: Tumor\n",
      "\n",
      "Number of elements: 1000\n",
      "\n",
      "***************************\n"
     ]
    }
   ],
   "source": [
    "path_main = r'C:\\Users\\Admin\\Desktop\\KIDNEY-DATASET\\KIDNEY-DATASET'\n",
    "for folder in os.listdir(path_main):\n",
    "    list_of_elements = os.listdir(os.path.join(path_main, folder)) \n",
    "    print(f'Folder: {folder}\\n')\n",
    "    print(f'Number of elements: {len(list_of_elements)}\\n')\n",
    "    #print(f'First item\\'s name: {list_of_elements[0]}\\n')\n",
    "    print('***************************')"
   ]
  },
  {
   "cell_type": "code",
   "execution_count": 6,
   "id": "3f22a49e",
   "metadata": {},
   "outputs": [],
   "source": [
    "def plot_imgs(item_dir, num_imgs=25):\n",
    "    all_item_dirs = os.listdir(item_dir)\n",
    "    item_files = [os.path.join(item_dir, file) for file in all_item_dirs][:num_imgs]\n",
    "\n",
    "    plt.figure(figsize=(10, 10))\n",
    "    for idx, img_path in enumerate(item_files):\n",
    "        plt.subplot(5, 5, idx+1)\n",
    "        img = plt.imread(img_path)\n",
    "        plt.title(f'{img_path}'[-10:-4])\n",
    "        plt.imshow(img)\n",
    "\n",
    "    plt.tight_layout()"
   ]
  },
  {
   "cell_type": "code",
   "execution_count": 7,
   "id": "4c8997ec",
   "metadata": {},
   "outputs": [],
   "source": [
    "path_normal = r'C:\\Users\\Admin\\Desktop\\KIDNEY-DATASET\\KIDNEY-DATASET\\Normal'\n",
    "path_stone = r'C:\\Users\\Admin\\Desktop\\KIDNEY-DATASET\\KIDNEY-DATASET\\Stone'\n",
    "path_cyst = r'C:\\Users\\Admin\\Desktop\\KIDNEY-DATASET\\KIDNEY-DATASET\\Cyst'\n",
    "path_tumor = r'C:\\Users\\Admin\\Desktop\\KIDNEY-DATASET\\KIDNEY-DATASET\\Tumor'\n"
   ]
  },
  {
   "cell_type": "code",
   "execution_count": 8,
   "id": "bceb5871",
   "metadata": {},
   "outputs": [
    {
     "name": "stderr",
     "output_type": "stream",
     "text": [
      "Copying files: 4000 files [00:32, 123.81 files/s]\n"
     ]
    }
   ],
   "source": [
    "splitfolders.ratio(\n",
    "    r'C:\\Users\\Admin\\Desktop\\KIDNEY-DATASET\\KIDNEY-DATASET',\n",
    "   output=r\"C:\\Users\\Admin\\Desktop\\KIDNEY-DATASET\",\n",
    "   seed=7,\n",
    "   ratio=(0.8,0.2)\n",
    ")"
   ]
  },
  {
   "cell_type": "code",
   "execution_count": 9,
   "id": "c0ff58cb",
   "metadata": {},
   "outputs": [],
   "source": [
    "train_datagen = ImageDataGenerator(rescale=1/255)\n",
    "test_datagen = ImageDataGenerator(rescale=1/255)"
   ]
  },
  {
   "cell_type": "code",
   "execution_count": 10,
   "id": "3114e53c",
   "metadata": {},
   "outputs": [
    {
     "name": "stdout",
     "output_type": "stream",
     "text": [
      "Found 3200 images belonging to 4 classes.\n",
      "Found 800 images belonging to 4 classes.\n"
     ]
    }
   ],
   "source": [
    "train_dataset = train_datagen.flow_from_directory(r'C:\\Users\\Admin\\Desktop\\KIDNEY-DATASET\\train',\n",
    "                                                  target_size=(200, 200),\n",
    "                                                  color_mode='grayscale', \n",
    "                                                  class_mode='categorical', \n",
    "                                                  batch_size=100,\n",
    "                                                  )\n",
    "\n",
    "test_dataset = test_datagen.flow_from_directory(r'C:\\Users\\Admin\\Desktop\\KIDNEY-DATASET\\test',\n",
    "                                                target_size=(200, 200),\n",
    "                                                class_mode='categorical',\n",
    "                                                color_mode='grayscale',\n",
    "                                                batch_size=100,\n",
    "                                                shuffle=False\n",
    "                                                )"
   ]
  },
  {
   "cell_type": "code",
   "execution_count": 12,
   "id": "0a998ea9",
   "metadata": {},
   "outputs": [],
   "source": [
    "model = tf.keras.models.Sequential([\n",
    "  \n",
    "    tf.keras.layers.Conv2D(32,(3,3),strides=(1, 1),activation='relu',padding='same', input_shape=train_dataset.image_shape), \n",
    "    tf.keras.layers.MaxPooling2D(pool_size=(2,2)),\n",
    "    \n",
    "    tf.keras.layers.Conv2D(64,(3,3),strides=(1, 1) ,padding='same',activation='relu'),\n",
    "    tf.keras.layers.MaxPooling2D(pool_size=(2,2)),\n",
    "\n",
    "    tf.keras.layers.Conv2D(128,(3,3),strides=(1, 1),padding='same', activation='relu'),\n",
    "    tf.keras.layers.MaxPooling2D(pool_size=(2,2)),\n",
    "\n",
    "    tf.keras.layers.Conv2D(256,(3,3),strides=(1, 1),padding='same', activation='relu'),\n",
    "    tf.keras.layers.MaxPooling2D(pool_size=(2,2)),\n",
    "\n",
    "\n",
    "    tf.keras.layers.Flatten(),\n",
    "\n",
    "    tf.keras.layers.Dense(128, activation='relu'),\n",
    "    tf.keras.layers.Dense(64, activation='relu'),\n",
    "    tf.keras.layers.Dense(4, activation='softmax'),\n",
    " \n",
    "])"
   ]
  },
  {
   "cell_type": "code",
   "execution_count": 14,
   "id": "99e8559b",
   "metadata": {},
   "outputs": [],
   "source": [
    "import keras\n",
    "METRICS = [\n",
    "        'accuracy',\n",
    "        keras.metrics.Precision(name='precision'),\n",
    "        keras.metrics.Recall(name='recall')\n",
    "    ]\n",
    "    \n",
    "model.compile(optimizer='rmsprop', loss='categorical_crossentropy', metrics=METRICS)"
   ]
  },
  {
   "cell_type": "code",
   "execution_count": 15,
   "id": "20dff334",
   "metadata": {
    "scrolled": true
   },
   "outputs": [
    {
     "name": "stdout",
     "output_type": "stream",
     "text": [
      "Epoch 1/13\n",
      "3/3 [==============================] - 55s 16s/step - loss: 1.4167 - accuracy: 0.2867 - precision: 0.0000e+00 - recall: 0.0000e+00\n",
      "Epoch 2/13\n",
      "3/3 [==============================] - 34s 10s/step - loss: 1.3779 - accuracy: 0.2633 - precision: 0.0000e+00 - recall: 0.0000e+00\n",
      "Epoch 3/13\n",
      "3/3 [==============================] - 32s 10s/step - loss: 1.3957 - accuracy: 0.3767 - precision: 0.2903 - recall: 0.0600  \n",
      "Epoch 4/13\n",
      "3/3 [==============================] - 29s 9s/step - loss: 1.3693 - accuracy: 0.4133 - precision: 0.0000e+00 - recall: 0.0000e+00\n",
      "Epoch 5/13\n",
      "3/3 [==============================] - 31s 9s/step - loss: 1.3002 - accuracy: 0.4067 - precision: 0.5610 - recall: 0.0767   \n",
      "Epoch 6/13\n",
      "3/3 [==============================] - 37s 13s/step - loss: 1.3909 - accuracy: 0.3300 - precision: 0.2716 - recall: 0.0733\n",
      "Epoch 7/13\n",
      "3/3 [==============================] - 32s 10s/step - loss: 1.1833 - accuracy: 0.5900 - precision: 0.7297 - recall: 0.0900   \n",
      "Epoch 8/13\n",
      "3/3 [==============================] - 29s 9s/step - loss: 1.2884 - accuracy: 0.4600 - precision: 0.4868 - recall: 0.1233\n",
      "Epoch 9/13\n",
      "3/3 [==============================] - 31s 10s/step - loss: 1.1105 - accuracy: 0.5800 - precision: 0.6433 - recall: 0.3367\n",
      "Epoch 10/13\n",
      "3/3 [==============================] - 37s 12s/step - loss: 0.9001 - accuracy: 0.7133 - precision: 0.7737 - recall: 0.3533\n",
      "Epoch 11/13\n",
      "3/3 [==============================] - 35s 11s/step - loss: 1.1188 - accuracy: 0.4767 - precision: 0.5691 - recall: 0.3567\n",
      "Epoch 12/13\n",
      "3/3 [==============================] - 29s 9s/step - loss: 0.6165 - accuracy: 0.8633 - precision: 0.9447 - recall: 0.6267\n",
      "Epoch 13/13\n",
      "3/3 [==============================] - 35s 12s/step - loss: 0.8575 - accuracy: 0.6333 - precision: 0.7203 - recall: 0.5667\n"
     ]
    }
   ],
   "source": [
    "model_fit = model.fit(train_dataset,\n",
    "                      steps_per_epoch = 3,\n",
    "                      epochs = 13)"
   ]
  },
  {
   "cell_type": "code",
   "execution_count": 17,
   "id": "b50b1c20",
   "metadata": {},
   "outputs": [],
   "source": [
    "model.save('my_model.h5')"
   ]
  },
  {
   "cell_type": "code",
   "execution_count": 18,
   "id": "9422fa7c",
   "metadata": {},
   "outputs": [
    {
     "name": "stdout",
     "output_type": "stream",
     "text": [
      "8/8 [==============================] - 22s 3s/step\n"
     ]
    }
   ],
   "source": [
    "model = tf.keras.models.load_model('my_model.h5')\n",
    "vgg_preds = model.predict(test_dataset)"
   ]
  },
  {
   "cell_type": "code",
   "execution_count": 19,
   "id": "48935807",
   "metadata": {},
   "outputs": [],
   "source": [
    "diseases_labels = []\n",
    "\n",
    "for key, value in train_dataset.class_indices.items():\n",
    "    diseases_labels.append(key)"
   ]
  },
  {
   "cell_type": "code",
   "execution_count": 20,
   "id": "1b1f9cbe",
   "metadata": {},
   "outputs": [],
   "source": [
    "def evaluate(actual, vgg_preds):\n",
    "    \n",
    "    \n",
    "    pre = []\n",
    "    for i in vgg_preds:\n",
    "        pre.append(np.argmax(i))\n",
    "\n",
    "    accuracy = (pre == actual).sum() / actual.shape[0]\n",
    "    print(f'Accuracy: {accuracy}')\n",
    "\n",
    "    precision, recall, f1_score, _ = precision_recall_fscore_support(actual, pre, average='macro')\n",
    "    print(f'Precision: {precision}')\n",
    "    print(f'Recall: {recall}')\n",
    "    print(f'F1_score: {f1_score}')\n",
    "\n",
    "    fig, ax = plt.subplots(figsize=(5,5))\n",
    "    conf_mat = confusion_matrix(actual, pre)\n",
    "    sns.heatmap(conf_mat, annot=True, fmt='.0f', cmap=\"YlGnBu\", xticklabels=diseases_labels, yticklabels=diseases_labels).set_title('Confusion Matrix Heat map')\n",
    "    plt.show()"
   ]
  },
  {
   "cell_type": "code",
   "execution_count": 21,
   "id": "3073807e",
   "metadata": {},
   "outputs": [
    {
     "name": "stdout",
     "output_type": "stream",
     "text": [
      "Accuracy: 0.80875\n",
      "Precision: 0.8261843654465835\n",
      "Recall: 0.8087500000000001\n",
      "F1_score: 0.7825078231481891\n"
     ]
    },
    {
     "data": {
      "image/png": "[encoded data removed]",
      "text/plain": [
       "<Figure size 500x500 with 2 Axes>"
      ]
     },
     "metadata": {},
     "output_type": "display_data"
    }
   ],
   "source": [
    "evaluate(test_dataset.classes,vgg_preds)"
   ]
  },
  {
   "cell_type": "code",
   "execution_count": null,
   "id": "6c90deb8",
   "metadata": {},
   "outputs": [],
   "source": []
  },
  {
   "cell_type": "code",
   "execution_count": null,
   "id": "ca85f530",
   "metadata": {},
   "outputs": [],
   "source": []
  },
  {
   "cell_type": "code",
   "execution_count": null,
   "id": "18a26d06",
   "metadata": {},
   "outputs": [],
   "source": []
  }
 ],
 "metadata": {
  "kernelspec": {
   "display_name": "Python 3 (ipykernel)",
   "language": "python",
   "name": "python3"
  },
  "language_info": {
   "codemirror_mode": {
    "name": "ipython",
    "version": 3
   },
   "file_extension": ".py",
   "mimetype": "text/x-python",
   "name": "python",
   "nbconvert_exporter": "python",
   "pygments_lexer": "ipython3",
   "version": "3.10.9"
  }
 },
 "nbformat": 4,
 "nbformat_minor": 5
}
