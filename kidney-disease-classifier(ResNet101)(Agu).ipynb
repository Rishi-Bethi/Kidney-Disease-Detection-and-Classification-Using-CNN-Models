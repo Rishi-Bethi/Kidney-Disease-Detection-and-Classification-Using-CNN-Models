{
 "cells": [
  {
   "cell_type": "code",
   "execution_count": 17,
   "id": "628c553a",
   "metadata": {},
   "outputs": [],
   "source": [
    "import numpy as np\n",
    "import cv2\n",
    "import PIL.Image as Image\n",
    "import os\n",
    "import matplotlib.pylab as plt\n",
    "import tensorflow as tf\n",
    "import tensorflow_hub as hub\n",
    "from tensorflow import keras\n",
    "from tensorflow.keras import layers\n",
    "from keras.layers.core import Dense,Flatten\n",
    "from tensorflow.keras.models import Sequential\n"
   ]
  },
  {
   "cell_type": "code",
   "execution_count": 18,
   "id": "110401a4",
   "metadata": {},
   "outputs": [],
   "source": [
    "from tensorflow import keras\n",
    "import PIL\n",
    "import cv2\n",
    "import matplotlib.pylab as plt\n",
    "import numpy as np\n",
    "from skimage.feature import greycomatrix, greycoprops\n",
    "import pandas as pd\n",
    "import pathlib\n"
   ]
  },
  {
   "cell_type": "code",
   "execution_count": 19,
   "id": "fba42adc",
   "metadata": {},
   "outputs": [],
   "source": [
    "data_dir=r\"C:\\Users\\COMPUTER CARE\\OneDrive\\Desktop\\kidney(agu)\\kidney(agu)\"\n",
    "data_dir = pathlib.Path(data_dir)\n",
    "images_dict = {\n",
    "    'Normal': list(data_dir.glob('normal/*')),\n",
    "    'Cyst': list(data_dir.glob('cyst/*')),\n",
    "    'Stone': list(data_dir.glob('stone/*')),\n",
    "    'Tumor': list(data_dir.glob('tumor/*'))\n",
    "    \n",
    "}\n",
    "labels_dict = {\n",
    "    'Normal':0,\n",
    "    'Cyst':1,\n",
    "    'Stone':2,\n",
    "    'Tumor':3\n",
    "}"
   ]
  },
  {
   "cell_type": "code",
   "execution_count": 20,
   "id": "53c49d50",
   "metadata": {},
   "outputs": [],
   "source": [
    "X, Y = [], []\n",
    "for image_type, images in images_dict.items():\n",
    "    \n",
    "        \n",
    "    for image in images:\n",
    "        img = cv2.imread(str(image))\n",
    "        resized_img = cv2.resize(img,(224,224))\n",
    "        X.append(resized_img)\n",
    "        Y.append(labels_dict[image_type])"
   ]
  },
  {
   "cell_type": "code",
   "execution_count": 21,
   "id": "e4e170e2",
   "metadata": {},
   "outputs": [],
   "source": [
    "X=np.array(X)\n",
    "Y=np.array(Y)"
   ]
  },
  {
   "cell_type": "code",
   "execution_count": 22,
   "id": "41551052",
   "metadata": {},
   "outputs": [],
   "source": [
    "from sklearn.model_selection import train_test_split\n",
    "X_train, X_test, y_train, y_test = train_test_split(X, Y,test_size=0.2)"
   ]
  },
  {
   "cell_type": "code",
   "execution_count": 23,
   "id": "293f41aa",
   "metadata": {},
   "outputs": [],
   "source": [
    "resnet_model = Sequential()\n",
    "pretrained_model= tf.keras.applications.ResNet101(include_top=False,input_shape=(224,224,3),\n",
    " pooling='avg',classes=4,\n",
    " weights='imagenet')\n",
    "for layer in pretrained_model.layers:\n",
    "    layer.trainable=False\n",
    "resnet_model.add(pretrained_model)\n",
    "resnet_model.add(Flatten())\n",
    "resnet_model.add(Dense(512, activation='relu'))\n",
    "resnet_model.add(Dense(4, activation='softmax'))"
   ]
  },
  {
   "cell_type": "code",
   "execution_count": 24,
   "id": "34bd24cc",
   "metadata": {},
   "outputs": [
    {
     "name": "stdout",
     "output_type": "stream",
     "text": [
      "Model: \"sequential_1\"\n",
      "_________________________________________________________________\n",
      " Layer (type)                Output Shape              Param #   \n",
      "=================================================================\n",
      " resnet101 (Functional)      (None, 2048)              42658176  \n",
      "                                                                 \n",
      " flatten_1 (Flatten)         (None, 2048)              0         \n",
      "                                                                 \n",
      " dense_2 (Dense)             (None, 512)               1049088   \n",
      "                                                                 \n",
      " dense_3 (Dense)             (None, 4)                 2052      \n",
      "                                                                 \n",
      "=================================================================\n",
      "Total params: 43,709,316\n",
      "Trainable params: 1,051,140\n",
      "Non-trainable params: 42,658,176\n",
      "_________________________________________________________________\n"
     ]
    }
   ],
   "source": [
    "    resnet_model.summary()"
   ]
  },
  {
   "cell_type": "code",
   "execution_count": 25,
   "id": "8074ce5b",
   "metadata": {},
   "outputs": [
    {
     "name": "stdout",
     "output_type": "stream",
     "text": [
      "Epoch 1/3\n"
     ]
    },
    {
     "name": "stderr",
     "output_type": "stream",
     "text": [
      "C:\\Users\\COMPUTER CARE\\anaconda3\\lib\\site-packages\\keras\\backend.py:5612: UserWarning: \"`sparse_categorical_crossentropy` received `from_logits=True`, but the `output` argument was produced by a Softmax activation and thus does not represent logits. Was this intended?\n",
      "  output, from_logits = _get_logits(\n"
     ]
    },
    {
     "name": "stdout",
     "output_type": "stream",
     "text": [
      "50/50 [==============================] - 844s 17s/step - loss: 1.0911 - accuracy: 0.6938\n",
      "Epoch 2/3\n",
      "50/50 [==============================] - 828s 17s/step - loss: 0.2286 - accuracy: 0.9246\n",
      "Epoch 3/3\n",
      "50/50 [==============================] - 827s 17s/step - loss: 0.1355 - accuracy: 0.9627\n"
     ]
    },
    {
     "data": {
      "text/plain": [
       "<keras.callbacks.History at 0x19b689519c0>"
      ]
     },
     "execution_count": 25,
     "metadata": {},
     "output_type": "execute_result"
    }
   ],
   "source": [
    "resnet_model.compile(\n",
    " optimizer=\"adam\",\n",
    " loss=tf.keras.losses.SparseCategoricalCrossentropy(from_logits=True),\n",
    " metrics=['accuracy'])\n",
    "resnet_model.fit(X_train, y_train, epochs=3,steps_per_epoch=50)\n"
   ]
  },
  {
   "cell_type": "code",
   "execution_count": 26,
   "id": "817988fc",
   "metadata": {},
   "outputs": [],
   "source": [
    "resnet_model.save('resnet101_agu.h5')"
   ]
  },
  {
   "cell_type": "code",
   "execution_count": 28,
   "id": "59e56b6f",
   "metadata": {},
   "outputs": [
    {
     "name": "stdout",
     "output_type": "stream",
     "text": [
      "38/38 [==============================] - 196s 5s/step - loss: 0.1205 - accuracy: 0.9575\n"
     ]
    },
    {
     "data": {
      "text/plain": [
       "[0.12048431485891342, 0.9574999809265137]"
      ]
     },
     "execution_count": 28,
     "metadata": {},
     "output_type": "execute_result"
    }
   ],
   "source": [
    "resnet_model = tf.keras.models.load_model('resnet101_agu.h5')\n",
    "resnet_model.evaluate(X_test,y_test)"
   ]
  },
  {
   "cell_type": "code",
   "execution_count": 29,
   "id": "e0b63c1c",
   "metadata": {},
   "outputs": [
    {
     "name": "stdout",
     "output_type": "stream",
     "text": [
      "38/38 [==============================] - 254s 7s/step\n"
     ]
    }
   ],
   "source": [
    "predictions=resnet_model.predict(X_test)"
   ]
  },
  {
   "cell_type": "code",
   "execution_count": 30,
   "id": "0ad186d5",
   "metadata": {},
   "outputs": [],
   "source": [
    "predictions=np.array(predictions)\n",
    "y_pred=[]\n",
    "for i in predictions: \n",
    "    i=list(i)\n",
    "    y_pred.append(i.index(max(i[0],i[1],i[2],i[3])))\n",
    "y_pred=np.array(y_pred)"
   ]
  },
  {
   "cell_type": "code",
   "execution_count": 31,
   "id": "43e20b1c",
   "metadata": {},
   "outputs": [
    {
     "name": "stdout",
     "output_type": "stream",
     "text": [
      "              precision    recall  f1-score   support\n",
      "\n",
      "           0       0.99      0.96      0.97       274\n",
      "           1       0.94      0.95      0.95       305\n",
      "           2       0.93      0.94      0.93       334\n",
      "           3       0.98      0.98      0.98       287\n",
      "\n",
      "    accuracy                           0.96      1200\n",
      "   macro avg       0.96      0.96      0.96      1200\n",
      "weighted avg       0.96      0.96      0.96      1200\n",
      "\n"
     ]
    }
   ],
   "source": [
    "from sklearn.metrics import classification_report\n",
    "print(classification_report(y_test,y_pred))"
   ]
  },
  {
   "cell_type": "code",
   "execution_count": 32,
   "id": "d0f182dc",
   "metadata": {},
   "outputs": [
    {
     "data": {
      "text/plain": [
       "<Axes: >"
      ]
     },
     "execution_count": 32,
     "metadata": {},
     "output_type": "execute_result"
    },
    {
     "data": {
      "image/png": "[encoded data removed]",
      "text/plain": [
       "<Figure size 640x480 with 2 Axes>"
      ]
     },
     "metadata": {},
     "output_type": "display_data"
    }
   ],
   "source": [
    "from sklearn.metrics import confusion_matrix\n",
    "import seaborn as sns\n",
    "%matplotlib inline\n",
    "cf_matrix = confusion_matrix(y_test,y_pred)\n",
    "sns.heatmap(cf_matrix, annot=True,cmap='coolwarm',fmt='.3g')"
   ]
  }
 ],
 "metadata": {
  "kernelspec": {
   "display_name": "Python 3 (ipykernel)",
   "language": "python",
   "name": "python3"
  },
  "language_info": {
   "codemirror_mode": {
    "name": "ipython",
    "version": 3
   },
   "file_extension": ".py",
   "mimetype": "text/x-python",
   "name": "python",
   "nbconvert_exporter": "python",
   "pygments_lexer": "ipython3",
   "version": "3.10.9"
  }
 },
 "nbformat": 4,
 "nbformat_minor": 5
}
