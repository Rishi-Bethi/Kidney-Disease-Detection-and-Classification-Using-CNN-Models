{
 "cells": [
  {
   "cell_type": "code",
   "execution_count": 44,
   "id": "628c553a",
   "metadata": {},
   "outputs": [],
   "source": [
    "import numpy as np\n",
    "import cv2\n",
    "import PIL.Image as Image\n",
    "import os\n",
    "import matplotlib.pylab as plt\n",
    "import tensorflow as tf\n",
    "import tensorflow_hub as hub\n",
    "from tensorflow import keras\n",
    "from tensorflow.keras import layers\n",
    "from keras.layers.core import Dense,Flatten\n",
    "from tensorflow.keras.models import Sequential\n"
   ]
  },
  {
   "cell_type": "code",
   "execution_count": 45,
   "id": "110401a4",
   "metadata": {},
   "outputs": [],
   "source": [
    "from tensorflow import keras\n",
    "import PIL\n",
    "import cv2\n",
    "import matplotlib.pylab as plt\n",
    "import numpy as np\n",
    "from skimage.feature import greycomatrix, greycoprops\n",
    "import pandas as pd\n",
    "import pathlib\n"
   ]
  },
  {
   "cell_type": "code",
   "execution_count": 46,
   "id": "fba42adc",
   "metadata": {},
   "outputs": [],
   "source": [
    "data_dir=r\"C:\\Users\\COMPUTER CARE\\OneDrive\\Desktop\\KIDNEY-DATASET\\KIDNEY-DATASET\\KIDNEY-DATASET\"\n",
    "data_dir = pathlib.Path(data_dir)\n",
    "images_dict = {\n",
    "    'Normal': list(data_dir.glob('normal/*')),\n",
    "    'Cyst': list(data_dir.glob('cyst/*')),\n",
    "    'Stone': list(data_dir.glob('stone/*')),\n",
    "    'Tumor': list(data_dir.glob('tumor/*'))\n",
    "    \n",
    "}\n",
    "labels_dict = {\n",
    "    'Normal':0,\n",
    "    'Cyst':1,\n",
    "    'Stone':2,\n",
    "    'Tumor':3\n",
    "}"
   ]
  },
  {
   "cell_type": "code",
   "execution_count": 47,
   "id": "53c49d50",
   "metadata": {},
   "outputs": [],
   "source": [
    "X, Y = [], []\n",
    "for image_type, images in images_dict.items():\n",
    "    \n",
    "        \n",
    "    for image in images:\n",
    "        img = cv2.imread(str(image))\n",
    "        resized_img = cv2.resize(img,(224,224))\n",
    "        X.append(resized_img)\n",
    "        Y.append(labels_dict[image_type])"
   ]
  },
  {
   "cell_type": "code",
   "execution_count": 48,
   "id": "e4e170e2",
   "metadata": {},
   "outputs": [],
   "source": [
    "X=np.array(X)\n",
    "Y=np.array(Y)"
   ]
  },
  {
   "cell_type": "code",
   "execution_count": 49,
   "id": "41551052",
   "metadata": {},
   "outputs": [],
   "source": [
    "from sklearn.model_selection import train_test_split\n",
    "X_train, X_test, y_train, y_test = train_test_split(X, Y,test_size=0.2)"
   ]
  },
  {
   "cell_type": "code",
   "execution_count": 50,
   "id": "293f41aa",
   "metadata": {},
   "outputs": [],
   "source": [
    "resnet_model = Sequential()\n",
    "pretrained_model= tf.keras.applications.ResNet101(include_top=False,input_shape=(224,224,3),\n",
    " pooling='avg',classes=4,\n",
    " weights='imagenet')\n",
    "for layer in pretrained_model.layers:\n",
    "    layer.trainable=False\n",
    "resnet_model.add(pretrained_model)\n",
    "resnet_model.add(Flatten())\n",
    "resnet_model.add(Dense(512, activation='relu'))\n",
    "resnet_model.add(Dense(4, activation='softmax'))"
   ]
  },
  {
   "cell_type": "code",
   "execution_count": 51,
   "id": "34bd24cc",
   "metadata": {},
   "outputs": [
    {
     "name": "stdout",
     "output_type": "stream",
     "text": [
      "Model: \"sequential_4\"\n",
      "_________________________________________________________________\n",
      " Layer (type)                Output Shape              Param #   \n",
      "=================================================================\n",
      " resnet101 (Functional)      (None, 2048)              42658176  \n",
      "                                                                 \n",
      " flatten_4 (Flatten)         (None, 2048)              0         \n",
      "                                                                 \n",
      " dense_8 (Dense)             (None, 512)               1049088   \n",
      "                                                                 \n",
      " dense_9 (Dense)             (None, 4)                 2052      \n",
      "                                                                 \n",
      "=================================================================\n",
      "Total params: 43,709,316\n",
      "Trainable params: 1,051,140\n",
      "Non-trainable params: 42,658,176\n",
      "_________________________________________________________________\n"
     ]
    }
   ],
   "source": [
    "    resnet_model.summary()"
   ]
  },
  {
   "cell_type": "code",
   "execution_count": 52,
   "id": "8074ce5b",
   "metadata": {},
   "outputs": [
    {
     "name": "stdout",
     "output_type": "stream",
     "text": [
      "Epoch 1/3\n",
      "10/10 [==============================] - 921s 92s/step - loss: 2.6503 - accuracy: 0.4519\n",
      "Epoch 2/3\n",
      "10/10 [==============================] - 966s 97s/step - loss: 0.6793 - accuracy: 0.7237\n",
      "Epoch 3/3\n",
      "10/10 [==============================] - 1819s 187s/step - loss: 0.3275 - accuracy: 0.8803\n"
     ]
    },
    {
     "data": {
      "text/plain": [
       "<keras.callbacks.History at 0x25f35787f70>"
      ]
     },
     "execution_count": 52,
     "metadata": {},
     "output_type": "execute_result"
    }
   ],
   "source": [
    "resnet_model.compile(\n",
    " optimizer=\"adam\",\n",
    " loss=tf.keras.losses.SparseCategoricalCrossentropy(from_logits=True),\n",
    " metrics=['accuracy'])\n",
    "resnet_model.fit(X_train, y_train, epochs=3,steps_per_epoch=10)\n"
   ]
  },
  {
   "cell_type": "code",
   "execution_count": 53,
   "id": "55f14c9e",
   "metadata": {},
   "outputs": [],
   "source": [
    "resnet_model.save('101.h5')"
   ]
  },
  {
   "cell_type": "code",
   "execution_count": 54,
   "id": "59e56b6f",
   "metadata": {},
   "outputs": [
    {
     "name": "stdout",
     "output_type": "stream",
     "text": [
      "25/25 [==============================] - 316s 12s/step - loss: 0.2324 - accuracy: 0.9362\n"
     ]
    },
    {
     "data": {
      "text/plain": [
       "[0.23243257403373718, 0.9362499713897705]"
      ]
     },
     "execution_count": 54,
     "metadata": {},
     "output_type": "execute_result"
    }
   ],
   "source": [
    "resnet_model = tf.keras.models.load_model('101.h5')\n",
    "resnet_model.evaluate(X_test,y_test)"
   ]
  },
  {
   "cell_type": "code",
   "execution_count": 55,
   "id": "e0b63c1c",
   "metadata": {},
   "outputs": [
    {
     "name": "stdout",
     "output_type": "stream",
     "text": [
      "25/25 [==============================] - 253s 10s/step\n"
     ]
    }
   ],
   "source": [
    "predictions=resnet_model.predict(X_test)"
   ]
  },
  {
   "cell_type": "code",
   "execution_count": 56,
   "id": "0ad186d5",
   "metadata": {},
   "outputs": [],
   "source": [
    "predictions=np.array(predictions)\n",
    "y_pred=[]\n",
    "for i in predictions: \n",
    "    i=list(i)\n",
    "    y_pred.append(i.index(max(i[0],i[1],i[2],i[3])))\n",
    "y_pred=np.array(y_pred)"
   ]
  },
  {
   "cell_type": "code",
   "execution_count": 57,
   "id": "43e20b1c",
   "metadata": {},
   "outputs": [
    {
     "name": "stdout",
     "output_type": "stream",
     "text": [
      "              precision    recall  f1-score   support\n",
      "\n",
      "           0       0.98      0.91      0.95       203\n",
      "           1       0.89      0.97      0.93       198\n",
      "           2       0.92      0.91      0.92       202\n",
      "           3       0.95      0.95      0.95       197\n",
      "\n",
      "    accuracy                           0.94       800\n",
      "   macro avg       0.94      0.94      0.94       800\n",
      "weighted avg       0.94      0.94      0.94       800\n",
      "\n"
     ]
    }
   ],
   "source": [
    "from sklearn.metrics import classification_report\n",
    "print(classification_report(y_test,y_pred))"
   ]
  },
  {
   "cell_type": "code",
   "execution_count": 58,
   "id": "c134b458",
   "metadata": {},
   "outputs": [
    {
     "data": {
      "text/plain": [
       "<Axes: >"
      ]
     },
     "execution_count": 58,
     "metadata": {},
     "output_type": "execute_result"
    },
    {
     "data": {
      "image/png": "[encoded data removed]",
      "text/plain": [
       "<Figure size 640x480 with 2 Axes>"
      ]
     },
     "metadata": {},
     "output_type": "display_data"
    }
   ],
   "source": [
    "from sklearn.metrics import confusion_matrix\n",
    "import seaborn as sns\n",
    "%matplotlib inline\n",
    "cf_matrix = confusion_matrix(y_test,y_pred)\n",
    "sns.heatmap(cf_matrix, annot=True,cmap='coolwarm',fmt='.3g')"
   ]
  },
  {
   "cell_type": "code",
   "execution_count": null,
   "id": "d0f182dc",
   "metadata": {},
   "outputs": [],
   "source": []
  }
 ],
 "metadata": {
  "kernelspec": {
   "display_name": "Python 3 (ipykernel)",
   "language": "python",
   "name": "python3"
  },
  "language_info": {
   "codemirror_mode": {
    "name": "ipython",
    "version": 3
   },
   "file_extension": ".py",
   "mimetype": "text/x-python",
   "name": "python",
   "nbconvert_exporter": "python",
   "pygments_lexer": "ipython3",
   "version": "3.10.9"
  }
 },
 "nbformat": 4,
 "nbformat_minor": 5
}
