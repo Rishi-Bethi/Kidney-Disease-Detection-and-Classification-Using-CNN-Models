{
 "cells": [
  {
   "cell_type": "code",
   "execution_count": 64,
   "id": "af171694",
   "metadata": {},
   "outputs": [
    {
     "name": "stdout",
     "output_type": "stream",
     "text": [
      "Requirement already satisfied: split-folders in c:\\users\\admin\\anaconda3\\lib\\site-packages (0.5.1)\n"
     ]
    }
   ],
   "source": [
    "!pip install split-folders"
   ]
  },
  {
   "cell_type": "code",
   "execution_count": 65,
   "id": "ac2549d8",
   "metadata": {},
   "outputs": [],
   "source": [
    "import numpy as np # linear algebra\n",
    "import pandas as pd # data processing, CSV file I/O (e.g. pd.read_csv)\n",
    "\n",
    "import matplotlib as mpl\n",
    "import matplotlib.pyplot as plt\n",
    "import matplotlib.image as mpimg\n",
    "\n",
    "import os\n",
    "import tensorflow as tf\n",
    "import cv2\n",
    "\n",
    "from PIL import Image, ImageOps\n",
    "import scipy.ndimage as ndi\n",
    "\n",
    "from tensorflow.keras.preprocessing.image import ImageDataGenerator , load_img , img_to_array\n",
    "from keras.models import Sequential\n",
    "from keras.layers import Conv2D, Flatten, MaxPool2D, Dense\n",
    "import matplotlib.pyplot as plt\n",
    "\n",
    "from skimage import transform\n",
    "import splitfolders\n",
    "from sklearn.metrics import confusion_matrix\n",
    "from sklearn.metrics import precision_recall_fscore_support\n",
    "import seaborn as sns\n",
    "\n",
    "import splitfolders"
   ]
  },
  {
   "cell_type": "code",
   "execution_count": 66,
   "id": "3c7ccc39",
   "metadata": {},
   "outputs": [
    {
     "data": {
      "text/plain": [
       "['Cyst', 'Normal', 'Stone', 'Tumor']"
      ]
     },
     "execution_count": 66,
     "metadata": {},
     "output_type": "execute_result"
    }
   ],
   "source": [
    "os.listdir(r'C:\\Users\\Admin\\Desktop\\kidney(agu)')"
   ]
  },
  {
   "cell_type": "code",
   "execution_count": 67,
   "id": "696784ab",
   "metadata": {},
   "outputs": [
    {
     "name": "stdout",
     "output_type": "stream",
     "text": [
      "Folder: Cyst\n",
      "\n",
      "Number of elements: 1500\n",
      "\n",
      "First item's name: aug_0_7208.jpeg\n",
      "\n",
      "***************************\n",
      "Folder: Normal\n",
      "\n",
      "Number of elements: 1500\n",
      "\n",
      "First item's name: aug_0_2343.jpeg\n",
      "\n",
      "***************************\n",
      "Folder: Stone\n",
      "\n",
      "Number of elements: 1500\n",
      "\n",
      "First item's name: aug_0_2553.jpeg\n",
      "\n",
      "***************************\n",
      "Folder: Tumor\n",
      "\n",
      "Number of elements: 1500\n",
      "\n",
      "First item's name: aug_0_1711.jpeg\n",
      "\n",
      "***************************\n"
     ]
    }
   ],
   "source": [
    "path_main = r'C:\\Users\\Admin\\Desktop\\kidney(agu)'\n",
    "for folder in os.listdir(path_main):\n",
    "    list_of_elements = os.listdir(os.path.join(path_main, folder)) \n",
    "    print(f'Folder: {folder}\\n')\n",
    "    print(f'Number of elements: {len(list_of_elements)}\\n')\n",
    "    print(f'First item\\'s name: {list_of_elements[0]}\\n')\n",
    "    print('***************************')"
   ]
  },
  {
   "cell_type": "code",
   "execution_count": 68,
   "id": "3f22a49e",
   "metadata": {},
   "outputs": [],
   "source": [
    "def plot_imgs(item_dir, num_imgs=25):\n",
    "    all_item_dirs = os.listdir(item_dir)\n",
    "    item_files = [os.path.join(item_dir, file) for file in all_item_dirs][:num_imgs]\n",
    "\n",
    "    plt.figure(figsize=(10, 10))\n",
    "    for idx, img_path in enumerate(item_files):\n",
    "        plt.subplot(5, 5, idx+1)\n",
    "        img = plt.imread(img_path)\n",
    "        plt.title(f'{img_path}'[-10:-4])\n",
    "        plt.imshow(img)\n",
    "\n",
    "    plt.tight_layout()"
   ]
  },
  {
   "cell_type": "code",
   "execution_count": 69,
   "id": "4c8997ec",
   "metadata": {},
   "outputs": [],
   "source": [
    "path_normal = r'C:\\Users\\Admin\\Desktop\\kidney(agu)\\Normal'\n",
    "path_stone = r'C:\\Users\\Admin\\Desktop\\kidney(agu)\\Stone'\n",
    "path_cyst = r'C:\\Users\\Admin\\Desktop\\kidney(agu)\\Cyst'\n",
    "path_tumor = r'C:\\Users\\Admin\\Desktop\\kidney(agu)\\Tumor'\n"
   ]
  },
  {
   "cell_type": "code",
   "execution_count": 70,
   "id": "bceb5871",
   "metadata": {
    "scrolled": true
   },
   "outputs": [
    {
     "name": "stderr",
     "output_type": "stream",
     "text": [
      "Copying files: 6000 files [00:23, 253.22 files/s]\n"
     ]
    }
   ],
   "source": [
    "splitfolders.ratio(\n",
    "    r'C:\\Users\\Admin\\Desktop\\kidney(agu)',\n",
    "   output=r\"C:\\Users\\Admin\\Desktop\\vgg16(agu)\",\n",
    "   seed=7,\n",
    "   ratio=(0.8,0.2)\n",
    ")"
   ]
  },
  {
   "cell_type": "code",
   "execution_count": 71,
   "id": "c0ff58cb",
   "metadata": {},
   "outputs": [],
   "source": [
    "train_datagen = ImageDataGenerator(rescale=1/255)\n",
    "test_datagen = ImageDataGenerator(rescale=1/255)"
   ]
  },
  {
   "cell_type": "code",
   "execution_count": 72,
   "id": "3114e53c",
   "metadata": {},
   "outputs": [
    {
     "name": "stdout",
     "output_type": "stream",
     "text": [
      "Found 4800 images belonging to 4 classes.\n",
      "Found 1200 images belonging to 4 classes.\n"
     ]
    }
   ],
   "source": [
    "train_dataset = train_datagen.flow_from_directory(r'C:\\Users\\Admin\\Desktop\\vgg16(agu)\\train',\n",
    "                                                  target_size=(200, 200),\n",
    "                                                  color_mode='grayscale', \n",
    "                                                  class_mode='categorical', \n",
    "                                                  batch_size=100,\n",
    "                                                  )\n",
    "\n",
    "test_dataset = test_datagen.flow_from_directory(r'C:\\Users\\Admin\\Desktop\\vgg16(agu)\\test',\n",
    "                                                target_size=(200, 200),\n",
    "                                                class_mode='categorical',\n",
    "                                                color_mode='grayscale',\n",
    "                                                batch_size=100,\n",
    "                                                shuffle=False\n",
    "                                                )"
   ]
  },
  {
   "cell_type": "code",
   "execution_count": 73,
   "id": "0a998ea9",
   "metadata": {},
   "outputs": [],
   "source": [
    "model = tf.keras.models.Sequential([\n",
    "  \n",
    "    tf.keras.layers.Conv2D(32,(3,3),strides=(1, 1),activation='relu',padding='same', input_shape=train_dataset.image_shape), \n",
    "    tf.keras.layers.MaxPooling2D(pool_size=(2,2)),\n",
    "    \n",
    "    tf.keras.layers.Conv2D(64,(3,3),strides=(1, 1) ,padding='same',activation='relu'),\n",
    "    tf.keras.layers.MaxPooling2D(pool_size=(2,2)),\n",
    "\n",
    "    tf.keras.layers.Conv2D(128,(3,3),strides=(1, 1),padding='same', activation='relu'),\n",
    "    tf.keras.layers.MaxPooling2D(pool_size=(2,2)),\n",
    "\n",
    "    tf.keras.layers.Conv2D(256,(3,3),strides=(1, 1),padding='same', activation='relu'),\n",
    "    tf.keras.layers.MaxPooling2D(pool_size=(2,2)),\n",
    "\n",
    "\n",
    "    tf.keras.layers.Flatten(),\n",
    "\n",
    "    tf.keras.layers.Dense(128, activation='relu'),\n",
    "    tf.keras.layers.Dense(64, activation='relu'),\n",
    "    tf.keras.layers.Dense(4, activation='softmax'),\n",
    " \n",
    "])"
   ]
  },
  {
   "cell_type": "code",
   "execution_count": 74,
   "id": "99e8559b",
   "metadata": {},
   "outputs": [],
   "source": [
    "import keras\n",
    "METRICS = [\n",
    "        'accuracy',\n",
    "        keras.metrics.Precision(name='precision'),\n",
    "        keras.metrics.Recall(name='recall')\n",
    "    ]\n",
    "    \n",
    "model.compile(optimizer='rmsprop', loss='categorical_crossentropy', metrics=METRICS)"
   ]
  },
  {
   "cell_type": "code",
   "execution_count": 75,
   "id": "20dff334",
   "metadata": {},
   "outputs": [
    {
     "name": "stdout",
     "output_type": "stream",
     "text": [
      "Epoch 1/50\n",
      "3/3 [==============================] - 49s 14s/step - loss: 1.4238 - accuracy: 0.2133 - precision: 0.0000e+00 - recall: 0.0000e+00\n",
      "Epoch 2/50\n",
      "3/3 [==============================] - 29s 9s/step - loss: 1.3855 - accuracy: 0.2333 - precision: 0.0000e+00 - recall: 0.0000e+00\n",
      "Epoch 3/50\n",
      "3/3 [==============================] - 29s 10s/step - loss: 1.3829 - accuracy: 0.2867 - precision: 0.0000e+00 - recall: 0.0000e+00\n",
      "Epoch 4/50\n",
      "3/3 [==============================] - 28s 9s/step - loss: 1.3772 - accuracy: 0.4133 - precision: 0.0000e+00 - recall: 0.0000e+00\n",
      "Epoch 5/50\n",
      "3/3 [==============================] - 26s 8s/step - loss: 1.3830 - accuracy: 0.2700 - precision: 0.4400 - recall: 0.0367   \n",
      "Epoch 6/50\n",
      "3/3 [==============================] - 27s 9s/step - loss: 1.3846 - accuracy: 0.2500 - precision: 0.0000e+00 - recall: 0.0000e+00\n",
      "Epoch 7/50\n",
      "3/3 [==============================] - 30s 10s/step - loss: 1.3633 - accuracy: 0.2567 - precision: 0.0000e+00 - recall: 0.0000e+00\n",
      "Epoch 8/50\n",
      "3/3 [==============================] - 30s 11s/step - loss: 1.3573 - accuracy: 0.3433 - precision: 1.0000 - recall: 0.0067   \n",
      "Epoch 9/50\n",
      "3/3 [==============================] - 31s 11s/step - loss: 1.3040 - accuracy: 0.4233 - precision: 0.5000 - recall: 0.0233  \n",
      "Epoch 10/50\n",
      "3/3 [==============================] - 28s 9s/step - loss: 1.6386 - accuracy: 0.3800 - precision: 0.3693 - recall: 0.2167\n",
      "Epoch 11/50\n",
      "3/3 [==============================] - 26s 8s/step - loss: 1.2954 - accuracy: 0.3767 - precision: 1.0000 - recall: 0.0033   \n",
      "Epoch 12/50\n",
      "3/3 [==============================] - 27s 9s/step - loss: 1.1643 - accuracy: 0.5267 - precision: 0.7105 - recall: 0.0900   \n",
      "Epoch 13/50\n",
      "3/3 [==============================] - 28s 9s/step - loss: 1.1984 - accuracy: 0.4933 - precision: 0.3667 - recall: 0.1833\n",
      "Epoch 14/50\n",
      "3/3 [==============================] - 26s 8s/step - loss: 1.1362 - accuracy: 0.4967 - precision: 0.6383 - recall: 0.2000\n",
      "Epoch 15/50\n",
      "3/3 [==============================] - 26s 9s/step - loss: 1.0718 - accuracy: 0.5300 - precision: 0.6438 - recall: 0.3133\n",
      "Epoch 16/50\n",
      "3/3 [==============================] - 26s 8s/step - loss: 1.1212 - accuracy: 0.4833 - precision: 0.5394 - recall: 0.2967\n",
      "Epoch 17/50\n",
      "3/3 [==============================] - 27s 9s/step - loss: 1.0113 - accuracy: 0.5067 - precision: 0.6573 - recall: 0.3133\n",
      "Epoch 18/50\n",
      "3/3 [==============================] - 27s 9s/step - loss: 0.9828 - accuracy: 0.5867 - precision: 0.7047 - recall: 0.4533\n",
      "Epoch 19/50\n",
      "3/3 [==============================] - 28s 10s/step - loss: 0.8162 - accuracy: 0.6767 - precision: 0.7066 - recall: 0.5700\n",
      "Epoch 20/50\n",
      "3/3 [==============================] - 27s 9s/step - loss: 1.3009 - accuracy: 0.4267 - precision: 0.5204 - recall: 0.3400\n",
      "Epoch 21/50\n",
      "3/3 [==============================] - 26s 9s/step - loss: 0.9056 - accuracy: 0.6500 - precision: 0.7643 - recall: 0.4000\n",
      "Epoch 22/50\n",
      "3/3 [==============================] - 26s 9s/step - loss: 0.9197 - accuracy: 0.6000 - precision: 0.6553 - recall: 0.4500\n",
      "Epoch 23/50\n",
      "3/3 [==============================] - 27s 9s/step - loss: 0.9302 - accuracy: 0.6000 - precision: 0.6881 - recall: 0.5000\n",
      "Epoch 24/50\n",
      "3/3 [==============================] - 26s 8s/step - loss: 0.8068 - accuracy: 0.6433 - precision: 0.7361 - recall: 0.5300\n",
      "Epoch 25/50\n",
      "3/3 [==============================] - 25s 8s/step - loss: 1.1110 - accuracy: 0.5100 - precision: 0.5882 - recall: 0.3333\n",
      "Epoch 26/50\n",
      "3/3 [==============================] - 26s 8s/step - loss: 0.7822 - accuracy: 0.7267 - precision: 0.7709 - recall: 0.5833\n",
      "Epoch 27/50\n",
      "3/3 [==============================] - 26s 8s/step - loss: 0.7821 - accuracy: 0.6900 - precision: 0.7597 - recall: 0.5900\n",
      "Epoch 28/50\n",
      "3/3 [==============================] - 25s 8s/step - loss: 0.7665 - accuracy: 0.6667 - precision: 0.7227 - recall: 0.5733\n",
      "Epoch 29/50\n",
      "3/3 [==============================] - 25s 8s/step - loss: 0.8470 - accuracy: 0.6200 - precision: 0.6453 - recall: 0.5033\n",
      "Epoch 30/50\n",
      "3/3 [==============================] - 25s 8s/step - loss: 0.8176 - accuracy: 0.6433 - precision: 0.6840 - recall: 0.5700\n",
      "Epoch 31/50\n",
      "3/3 [==============================] - 24s 8s/step - loss: 0.8834 - accuracy: 0.6600 - precision: 0.7167 - recall: 0.5733\n",
      "Epoch 32/50\n",
      "3/3 [==============================] - 26s 9s/step - loss: 0.7557 - accuracy: 0.6700 - precision: 0.7097 - recall: 0.5867\n",
      "Epoch 33/50\n",
      "3/3 [==============================] - 26s 8s/step - loss: 0.9230 - accuracy: 0.6800 - precision: 0.7183 - recall: 0.5100\n",
      "Epoch 34/50\n",
      "3/3 [==============================] - 27s 8s/step - loss: 0.6143 - accuracy: 0.7800 - precision: 0.8103 - recall: 0.6833\n",
      "Epoch 35/50\n",
      "3/3 [==============================] - 25s 8s/step - loss: 0.6665 - accuracy: 0.7100 - precision: 0.7636 - recall: 0.6567\n",
      "Epoch 36/50\n",
      "3/3 [==============================] - 27s 8s/step - loss: 0.7235 - accuracy: 0.6733 - precision: 0.7170 - recall: 0.6333\n",
      "Epoch 37/50\n",
      "3/3 [==============================] - 26s 8s/step - loss: 0.6468 - accuracy: 0.7567 - precision: 0.7893 - recall: 0.6867\n",
      "Epoch 38/50\n",
      "3/3 [==============================] - 25s 8s/step - loss: 1.2264 - accuracy: 0.5567 - precision: 0.6092 - recall: 0.5300\n",
      "Epoch 39/50\n",
      "3/3 [==============================] - 26s 8s/step - loss: 0.6963 - accuracy: 0.7233 - precision: 0.8088 - recall: 0.5500\n",
      "Epoch 40/50\n",
      "3/3 [==============================] - 25s 8s/step - loss: 0.6103 - accuracy: 0.7667 - precision: 0.8200 - recall: 0.6833\n",
      "Epoch 41/50\n",
      "3/3 [==============================] - 26s 8s/step - loss: 0.5587 - accuracy: 0.7767 - precision: 0.7912 - recall: 0.7200\n",
      "Epoch 42/50\n",
      "3/3 [==============================] - 26s 8s/step - loss: 0.5804 - accuracy: 0.7700 - precision: 0.7826 - recall: 0.7200\n",
      "Epoch 43/50\n",
      "3/3 [==============================] - 25s 8s/step - loss: 0.6756 - accuracy: 0.7067 - precision: 0.7436 - recall: 0.6767\n",
      "Epoch 44/50\n",
      "3/3 [==============================] - 26s 8s/step - loss: 0.6292 - accuracy: 0.7267 - precision: 0.7689 - recall: 0.6433\n",
      "Epoch 45/50\n",
      "3/3 [==============================] - 25s 8s/step - loss: 0.6010 - accuracy: 0.7667 - precision: 0.7931 - recall: 0.6900\n",
      "Epoch 46/50\n",
      "3/3 [==============================] - 24s 8s/step - loss: 0.6261 - accuracy: 0.7400 - precision: 0.7734 - recall: 0.6600\n",
      "Epoch 47/50\n",
      "3/3 [==============================] - 24s 8s/step - loss: 0.6830 - accuracy: 0.7000 - precision: 0.7386 - recall: 0.6500\n",
      "Epoch 48/50\n",
      "3/3 [==============================] - 25s 8s/step - loss: 0.3989 - accuracy: 0.8333 - precision: 0.8688 - recall: 0.8167\n",
      "Epoch 49/50\n",
      "3/3 [==============================] - 25s 8s/step - loss: 0.5834 - accuracy: 0.7600 - precision: 0.7893 - recall: 0.7367\n",
      "Epoch 50/50\n",
      "3/3 [==============================] - 25s 8s/step - loss: 0.6595 - accuracy: 0.7500 - precision: 0.7799 - recall: 0.6733\n"
     ]
    }
   ],
   "source": [
    "model_fit = model.fit(train_dataset,\n",
    "                      steps_per_epoch = 3,\n",
    "                      epochs = 50)"
   ]
  },
  {
   "cell_type": "code",
   "execution_count": 76,
   "id": "3d8baf94",
   "metadata": {},
   "outputs": [],
   "source": [
    "model.save('my_model3.h5')"
   ]
  },
  {
   "cell_type": "code",
   "execution_count": 77,
   "id": "9422fa7c",
   "metadata": {},
   "outputs": [
    {
     "name": "stdout",
     "output_type": "stream",
     "text": [
      "12/12 [==============================] - 25s 2s/step\n"
     ]
    }
   ],
   "source": [
    "model = tf.keras.models.load_model('my_model3.h5')\n",
    "vgg_preds = model.predict(test_dataset)"
   ]
  },
  {
   "cell_type": "code",
   "execution_count": 78,
   "id": "48935807",
   "metadata": {},
   "outputs": [],
   "source": [
    "diseases_labels = []\n",
    "\n",
    "for key, value in train_dataset.class_indices.items():\n",
    "    diseases_labels.append(key)"
   ]
  },
  {
   "cell_type": "code",
   "execution_count": 79,
   "id": "1b1f9cbe",
   "metadata": {},
   "outputs": [],
   "source": [
    "def evaluate(actual, vgg_preds):\n",
    "    \n",
    "    \n",
    "    pre = []\n",
    "    for i in vgg_preds:\n",
    "        pre.append(np.argmax(i))\n",
    "\n",
    "    accuracy = (pre == actual).sum() / actual.shape[0]\n",
    "    print(f'Accuracy: {accuracy}')\n",
    "\n",
    "    precision, recall, f1_score, _ = precision_recall_fscore_support(actual, pre, average='macro')\n",
    "    print(f'Precision: {precision}')\n",
    "    print(f'Recall: {recall}')\n",
    "    print(f'F1_score: {f1_score}')\n",
    "\n",
    "    fig, ax = plt.subplots(figsize=(5,5))\n",
    "    conf_mat = confusion_matrix(actual, pre)\n",
    "    sns.heatmap(conf_mat, annot=True, fmt='.0f', cmap=\"YlGnBu\", xticklabels=diseases_labels, yticklabels=diseases_labels).set_title('Confusion Matrix Heat map')\n",
    "    plt.show()"
   ]
  },
  {
   "cell_type": "code",
   "execution_count": 80,
   "id": "3073807e",
   "metadata": {},
   "outputs": [
    {
     "name": "stdout",
     "output_type": "stream",
     "text": [
      "Accuracy: 0.8425\n",
      "Precision: 0.8417960067278358\n",
      "Recall: 0.8425\n",
      "F1_score: 0.838036373852814\n"
     ]
    },
    {
     "data": {
      "image/png": "[encoded data removed]",
      "text/plain": [
       "<Figure size 500x500 with 2 Axes>"
      ]
     },
     "metadata": {},
     "output_type": "display_data"
    }
   ],
   "source": [
    "evaluate(test_dataset.classes,vgg_preds)"
   ]
  },
  {
   "cell_type": "code",
   "execution_count": null,
   "id": "6c90deb8",
   "metadata": {},
   "outputs": [],
   "source": []
  },
  {
   "cell_type": "code",
   "execution_count": null,
   "id": "ca85f530",
   "metadata": {},
   "outputs": [],
   "source": []
  },
  {
   "cell_type": "code",
   "execution_count": null,
   "id": "18a26d06",
   "metadata": {},
   "outputs": [],
   "source": []
  }
 ],
 "metadata": {
  "kernelspec": {
   "display_name": "Python 3 (ipykernel)",
   "language": "python",
   "name": "python3"
  },
  "language_info": {
   "codemirror_mode": {
    "name": "ipython",
    "version": 3
   },
   "file_extension": ".py",
   "mimetype": "text/x-python",
   "name": "python",
   "nbconvert_exporter": "python",
   "pygments_lexer": "ipython3",
   "version": "3.10.9"
  }
 },
 "nbformat": 4,
 "nbformat_minor": 5
}
